{
 "cells": [
  {
   "cell_type": "markdown",
   "id": "53d4e3d8-2b0f-468b-bab9-a84ae4742a14",
   "metadata": {},
   "source": [
    "# Lab 7: Seismic Node Data Analysis\n",
    "\n",
    "**Course:** UAF GEOS419 - Solid Earth Geophysics  \n",
    "**Instructors**: Bryant Chow and Carl Tape  \n",
    "**Date**: Apr. 15, 2025\n",
    "\n",
    "-------\n",
    "\n",
    "## Lab Learning Goals\n",
    "1. Get a sense of what one day of seismic data looks like for a seismic node\n",
    "2. Learn to identify signals from very near-station sources (footsteps, boot stomps, hammer hits)\n",
    "3. Estimate seismic wavespeeds from travel times of direct waves\n",
    "4. Become familiar with tools used to search through and visualize seismic data\n",
    "5. Apply Fourier analysis to view different frequency components of signals\n",
    "6. Build intuition about seismic signals and what they might represent\n",
    "\n",
    "## Instructions\n",
    "- Please work through the lab exercises below. Try to do all your work in this notebook.\n",
    "- Run the `Import Cell` before starting in on the exercises, this will bring in necessary packages.\n",
    "- Use `Code` cells for doing any math you need, and for plotting data, using Python.\n",
    "- Use `Markdown` cells to write answers to questions.\n",
    "- If you need a refresher on Python or Jupyter, or have questions on how to do something specific, see resources below or feel free to ask!\n",
    "\n",
    "## Important Links\n",
    "1. **Course Website:** https://bryantchow.com/teaching/geos419\n",
    "2. **Course GitHub Repo.:** https://github.com/uafgeoteach/geos419_seg\n",
    "3. **Nodes Lab Google Drive**: https://drive.google.com/drive/folders/1K6wQONjYCp3-tO41NxnGk1mnfjTYwT9U?usp=drive_link\n",
    "4. **Nodes Lab Slides**: https://docs.google.com/presentation/d/1FElUjzTfrQmNdALEqTe2lE8pRRl3i8m3D3EmlkyE3pM/edit#slide=id.g34b953215db_0_12\n",
    "5. **Node Dataset:** https://drive.google.com/drive/folders/16uPknP1pScar_1wBSRzTGFq6A7j7Yl_r?usp=drive_link"
   ]
  },
  {
   "cell_type": "code",
   "execution_count": null,
   "id": "a518cd82-36e3-431d-8296-563c4368b691",
   "metadata": {},
   "outputs": [],
   "source": [
    "# IMPORT CELL - Please run this cell before proceeding\n",
    "import numpy as np\n",
    "import matplotlib.pyplot as plt\n",
    "import obspy\n",
    "\n",
    "# These are imported again in cell blocks below, but referenced here for convenience\n",
    "from obspy import read, UTCDateTime\n",
    "\n",
    "# Custom plotting routine for ObsPy time series\n",
    "from geos604funcs import plot_waveforms\n",
    "\n",
    "%matplotlib widget"
   ]
  },
  {
   "cell_type": "markdown",
   "id": "8adf3e2e-6e4a-44c3-9c40-598188df075f",
   "metadata": {},
   "source": [
    "\n",
    "------------\n"
   ]
  },
  {
   "cell_type": "markdown",
   "id": "ab310e56-4f42-4318-a47e-a9762f727a9a",
   "metadata": {},
   "source": [
    "# 1: Obtaining Seismic Data\n",
    "> **Node Data in Google Drive:** https://drive.google.com/drive/folders/16uPknP1pScar_1wBSRzTGFq6A7j7Yl_r?usp=drive_link\n",
    "> \n",
    "- To grab data, please download from the Google Drive below to your computer\n",
    "- Then, to upload from your computer to this OSL environment, drag and drop the file from your computer into the file column on the left\n",
    "- Filenames are formatted as: NN.SSS..CCc.YYYY.JJJ\n",
    "  - N = Network\n",
    "  - S = Station\n",
    "  - [C = Channel Code ](https://ds.iris.edu/ds/nodes/dmc/data/formats/seed-channel-naming/) (Band, Instrument, Component)\n",
    "  - Y = Year\n",
    "  - J = Julian Day (Jan. 1 is 001)\n",
    "\n",
    "This set of tasks will ask you to download and view some node data and identify an active source.\n",
    "\n",
    "> **Tasks:** \n",
    "> 1. **Select**: The instructor will assign you one station to look at based on Station Number\n",
    "> 2. **Download**: For your assigned station, download the data stream for the **Z component** on April 4, 2025\n",
    "> 3. **Plot**: Plot the waveform data using the `plot_waveforms` function\n",
    "> 4. **Identify**: Use the interactive figure to search for the hammer strikes in your data. Use the approximate time in the Lab Slides to confirm.\n",
    "> 5. **Mark**: Use the `marks` function to place lines at where the hammer strike occurs on your waveform plot. Re-run the cell to see these appear.\n",
    "> 6. **Log**: Determine the actual hammer hit time and write this down in the Deployment Information slide"
   ]
  },
  {
   "cell_type": "code",
   "execution_count": null,
   "id": "a2d1a087-30a4-460f-bd79-406d0631b101",
   "metadata": {},
   "outputs": [],
   "source": [
    "# Complete Task Below\n",
    "\n",
    "# READ: Read in seismic data\n",
    "st =  read(\"XX.100..DHZ.2025.094\") # <- YOUR INPUT HERE\n",
    "\n",
    "# MARKS: Use `marks` to add vertical lines to denote times of interest\n",
    "marks = []\n",
    "marks.append(\"2025-04-04T21:00:00\")  # <- Copy-Paste this below to add more time marks. Time should be in UTC\n",
    "\n",
    "# TRIM (OPTIONAL): If you want to only look at a time period of interest, you can modify below\n",
    "time_start = \"2025-04-04T00:00:00\"\n",
    "time_end = \"2025-04-04T23:59:59\"\n",
    "\n",
    "# AXES (OPTIONAL): If you want to set regular tick marks, you can change this \n",
    "# Be careful, if the value is too small you won't be able to see your labels\n",
    "tick_every = None  \n",
    "\n",
    "# Do not modify below\n",
    "st_trim = st.copy()\n",
    "st_trim.trim(UTCDateTime(time_start), UTCDateTime(time_end))\n",
    "plot_waveforms(st_trim, marks=marks, tick_every=tick_every)"
   ]
  },
  {
   "cell_type": "markdown",
   "id": "62e2f5ea-425c-4152-8034-33f1746f14a4",
   "metadata": {},
   "source": [
    "### Questions\n",
    "1. What is the time separation (in seconds) between hammer strikes? Does this make sense compared with the video and how long you expect it to take to swing a sledgehammer?\n",
    "2. How did you determine what time to call the \"strike\"? (Remember that positive is up, negative is down)\n",
    "3. How long is a \"strike\" signal? A hammer hit should be very impulsive, is that the case here? Why or why not.\n",
    "4. Are there any pre-strike (less than half a second before the hit) signals? If so what do you think that might be?\n",
    "5. Can you identify when I first arrived at the site? What are some signs that indicate I am nearby, working on the instrument, getting ready, etc."
   ]
  },
  {
   "cell_type": "code",
   "execution_count": null,
   "id": "d9467d77-2fd5-4531-b590-dd9aecd10c82",
   "metadata": {},
   "outputs": [],
   "source": []
  },
  {
   "cell_type": "markdown",
   "id": "ec67e42e-ba4d-4ee0-a0e6-b2f925e703ab",
   "metadata": {},
   "source": [
    "---"
   ]
  },
  {
   "cell_type": "markdown",
   "id": "d8620822-b477-4b86-8f54-76832c290b3c",
   "metadata": {},
   "source": [
    "# 2: Spectrograms\n",
    "- Remember that we can use the Fourier transform to look at the relative energy of different frequency components in our waveform. \n",
    "- [A spectrogram](https://docs.obspy.org/tutorial/code_snippets/plotting_spectrograms.html) shows us how frequency amplitudes vary with time\n",
    "- The following task will have you look at spectrograms for the hammer hits to understand their frequency content\n",
    "\n",
    "> **Tasks:**\n",
    "> 1. Trim your waveforms for Station 1 and Station 2 to the **same start and end time**, directly around the 3 hammer hits\n",
    "> 2. Plot the spectrogram for **both** of these waveforms to look at the frequency content with time.\n",
    "> 3. Choose a non-default (not viridis) colormap by setting the `cmap` parameter (https://matplotlib.org/stable/users/explain/colors/colormaps.html)\n",
    "> 4. Choose a colormap that you think better highlights the information shown in the spectrogram"
   ]
  },
  {
   "cell_type": "code",
   "execution_count": null,
   "id": "d6cd9020-b8bc-4284-9986-2b91f71e304e",
   "metadata": {},
   "outputs": [],
   "source": [
    "# Create new copies of your data to modify\n",
    "st_trim = st.copy()\n",
    "\n",
    "# COMPLETE: TRIM the data to only a small time window around the hammer hits\n",
    "time_start = \"2025-04-04T00:00:00\"\n",
    "time_end = \"2025-04-04T23:59:59\"\n",
    "\n",
    "# AXES (OPTIONAL): If you want to set regular tick marks, you can change this \n",
    "# Be careful, if the value is too small you won't be able to see your labels\n",
    "tick_every = None  \n",
    "\n",
    "# Do not modify below\n",
    "st_trim = st.copy()\n",
    "st_trim.trim(UTCDateTime(time_start), UTCDateTime(time_end))\n",
    "plot_waveforms(st_trim, marks=marks, tick_every=tick_every)\n",
    "\n",
    "st_trim.spectrogram(cmap=\"viridis\")  # <- Change the colormap"
   ]
  },
  {
   "cell_type": "markdown",
   "id": "0a8c9eb5-e770-4ca0-88fe-131faf645ef1",
   "metadata": {},
   "source": [
    "### Questions\n",
    "1. What dominant frequencies does a hammer hit put out its energy at?\n",
    "2. The spectrogram y-axis stops at 125 Hz. This is a hard limit called the Nyquist frequency and is a consequence of setting **what parameter** in our deployment?"
   ]
  },
  {
   "cell_type": "markdown",
   "id": "de47b0a8-3a23-4000-84ac-ccef9f9fbac2",
   "metadata": {},
   "source": []
  },
  {
   "cell_type": "markdown",
   "id": "69fc020d-4410-4317-9aa7-50e39f3432f7",
   "metadata": {},
   "source": [
    "---------"
   ]
  },
  {
   "cell_type": "markdown",
   "id": "dca77c80-9717-47e0-9e43-5bbaf80e5b1d",
   "metadata": {},
   "source": [
    "# 3: Filtering\n",
    "\n",
    "- Remember that we can filter our signals to remove certain frequencies in order to retain signals of interest\n",
    "- Let's filter our data to view the hammer strikes in different ways\n",
    "> **Tasks:**\n",
    "> 1. Play with the filter functions below and see what each does to your data\n",
    "> 2. For each filtered waveform, plot the spectrogram to visualize the effect of the filter"
   ]
  },
  {
   "cell_type": "code",
   "execution_count": null,
   "id": "c0f4b6f1-15e8-43e3-a89e-c883e6466cc8",
   "metadata": {},
   "outputs": [],
   "source": [
    "st_filter_highpass = st_trim_1.copy()\n",
    "st_filter_highpass.filter(\"highpass\", freq=90)\n",
    "plot_waveforms(st_filter_highpass)\n",
    "\n",
    "st_filter_lowpass = st_trim_1.copy()\n",
    "st_filter_highpass.filter(\"lowpass\", freq=1)\n",
    "plot_waveforms(st_filter_lowpass)\n",
    "\n",
    "st_filter_bandpass = st_trim_1.copy()\n",
    "st_filter_bandpass.filter(\"bandpass\", freqmin=80, freqmax=100)\n",
    "plot_waveforms(st_filter_bandpass)"
   ]
  },
  {
   "cell_type": "markdown",
   "id": "17434198-79e5-4f38-8b6b-1b3f9dd16c9d",
   "metadata": {},
   "source": [
    "# Questions\n",
    "1. What does a highpass filter do?\n",
    "2. What does a lowpass filter do?\n",
    "3. What does a bandpass filter do?\n",
    "4. For the hammer strike data would you rather use a highpass or lowpass filter?"
   ]
  },
  {
   "cell_type": "code",
   "execution_count": null,
   "id": "151f8f30-a908-4eec-ac7e-52fbb5deaf22",
   "metadata": {},
   "outputs": [],
   "source": []
  },
  {
   "cell_type": "markdown",
   "id": "c56999a0-8f46-429c-ab90-1f1b704010ae",
   "metadata": {},
   "source": [
    "---------"
   ]
  },
  {
   "cell_type": "markdown",
   "id": "7d0615df-0e58-476e-88ba-e2f643993987",
   "metadata": {},
   "source": [
    "# 4: Estimate Seismic Velocity\n",
    "\n",
    "We can determine a rough velocity structure of the subsurface by looking at the hammer strike you found in 1, at a neighboring node location, and determining the speed required to cover the distance between the stations.\n",
    "\n",
    "> **Tasks:**\n",
    "> 1. Using the station map, select a neighboring station. We will call this Station 2 (Station 1 referring to the one you looked at in Part 1)  \n",
    "> 2. Using Google Earth or Google Maps, determine the straight line distance between the two stations (in meters)\n",
    "> 3. Grab vertical component data for Station 2.\n",
    "> 4. Read in data from the station you identify in and identify the 3 hammer hits that occurred at Station 1.\n",
    "> 5. You may need to filter your data to identify the arrivals.\n",
    "> 6. Make a spectrogram of your trimmed data for Station 2.\n",
    "> 7. Figure out the time difference between the hammer strike recorded at Station 1 and at Station 2. Think carefully about what part of the waveform you are calling the \"arrival\".\n",
    "> 8. Answer the questions below."
   ]
  },
  {
   "cell_type": "code",
   "execution_count": null,
   "id": "c8678cd3-9ba8-4f3d-8a45-2e2049820840",
   "metadata": {},
   "outputs": [],
   "source": [
    "# Complete Task Below\n",
    "st2 =  read()  # Please use `st2` to refer to Station 2 so that we do not overwrite `st`\n",
    "# ..."
   ]
  },
  {
   "cell_type": "markdown",
   "id": "77faa457-5f4c-459e-b552-7198c42ccb1b",
   "metadata": {},
   "source": [
    "### Questions\n",
    "1. What is the velocity of the subsurface based on your time and distance? (in m/s)\n",
    "2. Does this make sense? Is this faster or slower than you were expecting?\n",
    "3. What phase is this (P or S; direct, reflected or head wave?)\n",
    "4. Describe the trajectory this wave took to get from Station 1 to Station 2.\n",
    "5. What type of material do you think hosted this wave, given the wavespeed you calculated, and the geographic/geologic condition at the ski field.\n",
    "6. How does the spectrogram for Station 2 compare to Station 1? What does this say about how frequencies are modulated as they propagate from Station 1 to 2?"
   ]
  },
  {
   "cell_type": "markdown",
   "id": "523752ee-cbc5-4703-851c-af519c9fd0d8",
   "metadata": {},
   "source": []
  },
  {
   "cell_type": "markdown",
   "id": "9da6fdcd-9606-4667-b1cf-1b18f57877ab",
   "metadata": {},
   "source": [
    "------"
   ]
  },
  {
   "cell_type": "markdown",
   "id": "cbb51fa6-67a8-4711-8236-f6f63d7807b9",
   "metadata": {},
   "source": [
    "# 5: Locate A Seismic Source\n",
    "Let's look for other signals in our data that we can corroborate with known timings. Let's try to find one of these potential sources in the node data. \n",
    "\n",
    "> **TASKS:**\n",
    "> 1. **Look at the Lab Slides** for the slide titled \"Potential Sources\". Choose a source to look for.\n",
    "> 2. **Note down**  \n",
    ">    a. Which source you will look for  \n",
    ">    b. Which station(s) might have the best chance of capturing it, and  \n",
    ">    c. The approximate time window you need to be looking at to detect this source  \n",
    "> 3. **Trim** your waveform for a reasonable window around when you expect the source to be generating measurable signals.\n",
    "> 4. **Plot** both the **time series** and the **spectrogram** for the trimmed waveform so you have multiple ways of viewing the data.\n",
    "> 5. If necessary, **filter** your data to enhance the signal of interest.\n",
    "> 6. Answer the questions on the related Lab Slide.\n",
    ">"
   ]
  },
  {
   "cell_type": "code",
   "execution_count": null,
   "id": "3583f20e-54c8-4e52-b0c8-0ddd711a69a6",
   "metadata": {},
   "outputs": [],
   "source": [
    "# Complete Tasks Below\n"
   ]
  },
  {
   "cell_type": "markdown",
   "id": "8ba1889c-14d3-48e0-a430-0f04722f1461",
   "metadata": {},
   "source": [
    "## Follow Up to (5)\n",
    "\n",
    "1. If you found your source:\n",
    "   - Can you explain the characteristic of the signal associated with your source?\n",
    "   - Can you confirm your finding by identifying the same signal on a different station?\n",
    "   - OR by not finding the same signal on a different station that you don't expect to record it on?\n",
    "2. If you did not find your source:\n",
    "   - Did you double check your work?\n",
    "   - Make sure that you are getting the date and time correct (UTC vs. local)\n",
    "   - Can you confirm there is no signal by checking other stations?\n",
    "   - If you still can't find it, why don't you think there is an associated signal here?\n",
    "   - If you could re-do this deployment, how would you do things differently to have a better chance of capturing this source?"
   ]
  },
  {
   "cell_type": "markdown",
   "id": "7a6135fd-b9a9-45cb-bcc4-1a2fdf729b02",
   "metadata": {},
   "source": []
  },
  {
   "cell_type": "markdown",
   "id": "946815d5-9d8e-4bf3-8417-62ea6b40dfe5",
   "metadata": {},
   "source": [
    "---"
   ]
  },
  {
   "cell_type": "markdown",
   "id": "583bea84-c60c-46d3-9684-103cb1f22ae1",
   "metadata": {},
   "source": [
    "# 6. Search for Interesting Signals\n",
    "\n",
    "If you completed 1-5 early and we still have lab time, please scan through your waveforms and look for interesting signals! You now have the tools to view your data in different ways, which might help you visualize your signals better.\n",
    "\n",
    "> **Tasks:**\n",
    "> - Isolate any interesting looking signals and try to make a conjecture about what it's source is.\n",
    "> - Base your answer on time of day, location of signal, frequency content, periodicity, whether or not it is captured on multiple stations, etc.\n",
    "> - Once you have your hypothesis, see if you can find more of that signal at later times, or on other stations."
   ]
  },
  {
   "cell_type": "code",
   "execution_count": null,
   "id": "8e06b68b-15c8-466c-a27f-0ff68da97610",
   "metadata": {},
   "outputs": [],
   "source": []
  },
  {
   "cell_type": "markdown",
   "id": "8e1599d4-59c7-40cd-b4a4-2a4724ac0348",
   "metadata": {},
   "source": [
    "# Reflection\n",
    "Approximately how much time did you spend on this lab assignment? Did you finish the lab? If not, what problem and part number did you get to?\n",
    "Feel free to suggest improvements here."
   ]
  },
  {
   "cell_type": "markdown",
   "id": "5f4b096b-aa44-4f4b-a777-8a2c7e073cba",
   "metadata": {},
   "source": []
  }
 ],
 "metadata": {
  "kernelspec": {
   "display_name": "Python 3 (ipykernel)",
   "language": "python",
   "name": "python3"
  },
  "language_info": {
   "codemirror_mode": {
    "name": "ipython",
    "version": 3
   },
   "file_extension": ".py",
   "mimetype": "text/x-python",
   "name": "python",
   "nbconvert_exporter": "python",
   "pygments_lexer": "ipython3",
   "version": "3.12.8"
  }
 },
 "nbformat": 4,
 "nbformat_minor": 5
}
