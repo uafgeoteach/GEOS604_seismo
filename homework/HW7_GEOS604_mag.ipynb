{
 "cells": [
  {
   "cell_type": "markdown",
   "id": "1f3e2278-f3e7-4f2b-a5be-4d8a001c9d44",
   "metadata": {},
   "source": [
    "# Homework 7: Earthquakes and Source Theory\n",
    "- **Course:** UAF GEOS604 &mdash; Seismology  \n",
    "- **Instructor:** Bryant Chow ([bhchow@alaska.edu](bhchow@alaska.edu))\n",
    "- **Course Website:** [https://bryantchow.com/teaching/geos604](https://bryantchow.com/teaching/geos604) \n",
    "- **Last Modified:**  03/18/25\n",
    "\n",
    "## Semester: Spring 2025\n",
    "- **Total Points**: 10\n",
    "- **Assigned**: March 18, 2025\n",
    "- **Due Date and Time**: March 25, 2025 at the beginning of class\n",
    "\n",
    "### Suggested Reading\n",
    "- **Stein and Wysession** Ch 4.2, 4.3, 4.4, 4.6, 4.7\n",
    "\n",
    "#### Full References\n",
    "- [SW] Stein S, Wysession M. An introduction to seismology, earthquakes, and earth structure. John Wiley & Sons; 2009 Apr 1. Ch. 2.7 \n",
    "- [SH] Shearer P M. Introduction to seismology. Cambridge university press; 2019 May 30.\n",
    "\n",
    "---------\n",
    "## Submitting Homework\n",
    "\n",
    "1. If you have handwritten solutions to any problems:  \n",
    "   a. include them directly in the notebook as a scan/picture in the appropriate section, OR  \n",
    "   b. scan/photograph and include them separately. please also reference them in the notebook (\"see handwritten notes submitted separately\")\n",
    "2. Save your homework as a PDF file using `File` -> `Save and Export Notebook As` -> `PDF`\n",
    "3. Double check that the output PDF contains all your code, text, and any images you have included\n",
    "5. Upload your PDF to the class Google Drive (see course website above) before the **Due Date and Time** listed above.\n",
    "\n",
    "**See the class syllabus section on \"Homework Policy\" for late policy and information on academic integrity.**\n",
    "\n",
    "---------------"
   ]
  },
  {
   "cell_type": "code",
   "execution_count": null,
   "id": "bb39cc41-0865-4570-b52a-a1e1e7b23b66",
   "metadata": {},
   "outputs": [],
   "source": [
    "# Feel free to import any other packages you need here.\n",
    "import numpy as np\n",
    "import matplotlib.pyplot as plt\n",
    "from obspy import UTCDateTime\n",
    "from obspy.clients.fdsn import Client\n",
    "from obspy.geodetics import gps2dist_azimuth, kilometer2degrees\n",
    "from geos604funcs import plot_polarities, plot_waveforms\n",
    "\n",
    "%matplotlib widget  "
   ]
  },
  {
   "cell_type": "markdown",
   "id": "38ba9e34-b242-437f-890f-1e220d49e17e",
   "metadata": {},
   "source": [
    "# Problem 1: Moment Magnitudes [3.0]\n",
    "\n",
    "> 1.1 [0.75] - Consider the [2002 Mw7.9 Denali Fault Earthquake](https://en.wikipedia.org/wiki/2002_Denali_earthquake), which had a **total surface rupture of $\\sim$340 km** along the Denali Fault, Totschunda Fault, and Susitna Glacier Thrust Fault.  \n",
    "> - Although the fault slip occurred on both strike-slip and thrust faults, we'll simplify the situation and just assume that the fault slipped as pure strike-slip motion on a vertically-dipping rectangular fault.\n",
    "> - **Assume the following:**\n",
    ">   - An average fault slip of 5 m\n",
    ">   - An average shear modulus for the fault rock to be [that of granite, about 24 GPa](https://en.wikipedia.org/wiki/Shear_modulus)\n",
    ">   - That the fault broke the ground surface along its entire length \n",
    "> - **Task: Determine the depth (in km) of fault rupture required to achieve a moment magnitude of Mw7.9**.\n",
    "> - Be careful about the expected units of each quantity."
   ]
  },
  {
   "cell_type": "code",
   "execution_count": null,
   "id": "c0a24c85-53aa-4cbf-a9c5-f293dae41625",
   "metadata": {},
   "outputs": [],
   "source": []
  },
  {
   "cell_type": "markdown",
   "id": "b4872ec6-2f91-4aa4-8a09-a3b959aef273",
   "metadata": {},
   "source": [
    "> 1.2 [0.25] - Does your answer in Part 1.1 make sense? In one or two sentences explain why or why not."
   ]
  },
  {
   "cell_type": "code",
   "execution_count": null,
   "id": "b7145017-5a4f-4551-85e8-370460405966",
   "metadata": {},
   "outputs": [],
   "source": []
  },
  {
   "cell_type": "markdown",
   "id": "639af715-b24a-4fba-85e2-9ee51aa9a401",
   "metadata": {},
   "source": [
    "> 1.3 [0.5] - Now do a little bit of research and get an approximate value for the length of the Denali Fault (see note below). Assuming that the entirety of the Denali Fault ruptures from the surface to the brittle-ductile transition zone (20 km), and that the entire fault slips 9m (approximately the maximum slip on the Denali Fault earthquake), **what is the maximum moment magnitude (Mw) achievable?**\n",
    ">   \n",
    "> **Note:** *Remember that we're taking logarithms here so a rough order of magnitude is okay, don't get hung up on the details or try to measure the length of the fault directly.*\n"
   ]
  },
  {
   "cell_type": "code",
   "execution_count": null,
   "id": "16f52974-32ed-4843-9180-b8cf0a75f5b2",
   "metadata": {},
   "outputs": [],
   "source": []
  },
  {
   "cell_type": "markdown",
   "id": "cf712864-6d44-49ae-9081-4506b5e1f265",
   "metadata": {},
   "source": [
    "> 1.4 [0.5] - Now consider a simplified geometry for the [Alaska-Aleutian subduction zone](https://en.wikipedia.org/wiki/Aleutian_Trench), which has a total trench length of 3,400 km, and an average dip of 45$^\\circ$. Consider the the entire subduction zone as a dipping rectuangular plane (i.e., ignoring curvature). What is the **maximum moment magnitude (Mw) achievable** if the entire subduction zone slipped **20 m** from the trench to the brittle-ductile transition zone."
   ]
  },
  {
   "cell_type": "code",
   "execution_count": null,
   "id": "aa686be2-690f-4264-8446-d05dffe6a84c",
   "metadata": {},
   "outputs": [],
   "source": []
  },
  {
   "cell_type": "markdown",
   "id": "c5cacbdc-f8a3-4f61-8db3-9a19b0811d99",
   "metadata": {},
   "source": [
    "> 1.5 [1.0] - Does your answer in 1.4 make sense? Considering the 1964 earthquake was estimated at Mw9.1 but only ruptured a patch of the subduction zone? (Hint, it should not).  \n",
    "> For **each parameter** involved in the calculation, describe what might be incorrect in our simplification that would have led to this under-prediction of moment release on a full-subduction zone earthquake."
   ]
  },
  {
   "cell_type": "code",
   "execution_count": null,
   "id": "a2176037-ea0c-4a83-b8fc-621a583bdbb3",
   "metadata": {},
   "outputs": [],
   "source": []
  },
  {
   "cell_type": "markdown",
   "id": "eca5a368-00a6-4176-a432-f97f5482b172",
   "metadata": {},
   "source": [
    "----------\n",
    "# Problem 2: Surface Wave Magnitude Scale [2.0]\n",
    "\n",
    "In this problem we will take a look at calculation of the surface wave magnitude scales. \n",
    "\n",
    "> 2.1 Run the following code block, which will 1) download waveform data for `IU.COLA.00.BHZ` starting at `2011-03-11T05:45:24` UTC, 2) remove the response to get a waveform in units of **displacement**, and 3) plot using `plot_waveforms` \n",
    "```\n",
    "c = Client(\"IRIS\")\n",
    "starttime = UTCDateTime(\"2011-03-11T05:46:24\")\n",
    "endtime = starttime + 60 * 60 * 2\n",
    "st = c.get_waveforms(\"IU\", \"COLA\", \"10\", \"BHZ\", starttime, endtime, attach_response=True)\n",
    "st.remove_response(output=\"DISP\")\n",
    "plot_waveforms(st)\n",
    "```"
   ]
  },
  {
   "cell_type": "code",
   "execution_count": null,
   "id": "cb55046e-ecb4-493a-81ec-94160ff4a3cd",
   "metadata": {},
   "outputs": [],
   "source": []
  },
  {
   "cell_type": "markdown",
   "id": "a71da452-ed17-4b1c-aa96-f12941be17d4",
   "metadata": {},
   "source": [
    "> 2.2 [1.0] - The surface wave magnitude is given by $M_s = \\log_{10}A_{20} + 1.66 \\log_{10} \\Delta + 2.0$ where $A_{20}$ is the largest amplitude of the surface waves at a dominant period of 20s, and $\\Delta$ is the epicentral distance in degrees. Here we will calculate the surface wave magnitude $M_s$.  \n",
    "> a. Looking at the **raw waveform**, **identify the time period** where $T\\approx20$s and note down $A_{20_{raw}}$  \n",
    "> b. Filter your seismogram in a very narrow band with a width of $\\Delta T = 0.5$s around $T=20$s. Note down $A_{20_{filtered}}$  \n",
    "> c. Calculate $\\Delta$ knowing this earthquake has an **epicentral location** of: 38.322$^\\circ$N 142.369$^\\circ$E     \n",
    "> d. Calculate $M_s$ for both parts (a) and (c)"
   ]
  },
  {
   "cell_type": "code",
   "execution_count": null,
   "id": "10df039b-f83b-4a46-9cf1-39875b9d2115",
   "metadata": {},
   "outputs": [],
   "source": []
  },
  {
   "cell_type": "markdown",
   "id": "7ea30ffe-11f5-48e4-9a80-9c0c11e41545",
   "metadata": {},
   "source": [
    "> 2.3 [1.0] - From the location and timing provided in the problem setup, **figure out what earthquake this is**, and the associated  moment magnitude $M_w$. Provide one or two sentences answer the following questions:    \n",
    "> a. Explain why the two values of $M_s$ that you calculated are different. What might be messing with the raw waveform measurement that you took in 2.2a?  \n",
    "> b. Why is the value of $M_s$ you calculated in 2.2c different than the catalog $M_w$.  \n",
    "> c. Using this waveform data only, explain what you might be able to do get your value of $M_s$ closer to the listed $M_w$.   "
   ]
  },
  {
   "cell_type": "code",
   "execution_count": null,
   "id": "f45cb990-91f1-41f8-8323-5073faebecbb",
   "metadata": {},
   "outputs": [],
   "source": []
  },
  {
   "attachments": {
    "73ac9a5a-5ff1-4939-a43d-00be8a6d96b7.png": {
     "image/png": "[encoded data removed]"
    }
   },
   "cell_type": "markdown",
   "id": "657c5b01-581d-4fab-8a60-79ccbca46e43",
   "metadata": {},
   "source": [
    "-------\n",
    "# Problem 3: First Motion Focal Mechanism [5.0]\n",
    "\n",
    "Consider the [following earthquake in southern Alaska](https://ds.iris.edu/wilber3/find_stations/5172125). The source mechanism below is described by the [Global Centroid Moment Tensor (GCMT) Project](https://www.globalcmt.org/CMTsearch.html). In this problem we will attempt to fit a focal mechanism that matches their solution using the first motion polarities of stations in Alaska.\n",
    "```\n",
    "201601241030A SOUTHERN ALASKA\n",
    "\n",
    "  Date: 2016/ 1/24   Centroid Time: 10:30:37.4 GMT\n",
    "  Lat=  59.75  Lon=-153.27\n",
    "  Depth=110.7   Half duration= 8.8\n",
    "  Centroid time minus hypocenter time:  7.2\n",
    "  Moment Tensor: Expo=26  2.390 -5.660 3.270 0.834 3.050 0.965 \n",
    "  Mw = 7.1    mb = 0.0    Ms = 7.1   Scalar Moment = 5.92e+26\n",
    "  Fault plane:  strike=313    dip=59   slip=152\n",
    "  Fault plane:  strike=59    dip=66   slip=34\n",
    "```\n",
    "\n",
    "GCMT provides both moment tensor and focal mechanism solutions. We will only be focusing on the focal mechanisms in this problem.  \n",
    "First let's see what the fault plane looks like, we can use ObsPy to plot our beachballs.\n",
    "```python\n",
    "from obspy.imaging.beachball import beachball\n",
    "\n",
    "nodal_plane = [313, 59, 152]  # strike, dip, rake\n",
    "beachball(nodal_plane)\n",
    "```\n",
    "\n",
    "![Figure 2(2).png](attachment:73ac9a5a-5ff1-4939-a43d-00be8a6d96b7.png)\n",
    "\n",
    "---------"
   ]
  },
  {
   "cell_type": "markdown",
   "id": "99b2a3a5-4a67-43d7-a93b-9ef9d42821bd",
   "metadata": {},
   "source": [
    "> 3.1 [1.0] The following stations provide good azimuthal coverage around the event location. **For each station in the station list below**:  \n",
    ">   - Download **vertical component** waveform data and filter it with a **bandpass filter between 1 and 20 Hz** \n",
    ">   - Zoom in on the P-wave (first arrival) and **determine the P-wave polarity** of this arrival\n",
    ">   - Create a `list` and assign a polarity for each station: use \"+\" for positive first motion, \"-\" for negative first motion, and \"?\" for uncertain\n",
    ">   - **Notes**\n",
    ">     - We are looking for the polarity of **first bump** past the noise, **not** the polarity of the maximum amplitude  \n",
    ">     - It's okay if you're uncertain about a pick, you can come back later and revise.\n",
    ">     - If you are uncertain it helps to leave a comment about what you thought it was.\n",
    ">     - You do **not** need to show the waveforms or picks in your submitted homework, I will just be looking at your answers to later parts"
   ]
  },
  {
   "cell_type": "markdown",
   "id": "dedf92d1-c62b-4228-a9af-727e7049476c",
   "metadata": {},
   "source": [
    "```python\n",
    "station_list = {\n",
    "    # Station Code     Lat    Lon\n",
    "    \"AK.COLD..BHZ\":   (67.23, -150.20),\n",
    "    \"CN.YKAW1..BHZ\":  (62.48, -114.48),\n",
    "    \"IM.TKL.00.BHZ\":  (35.66, -83.77),\n",
    "    \"IM.NV31..BHZ\":   (38.43, -118.16),\n",
    "    \"IU.POHA.00.BHZ\": (19.76, -155.53),\n",
    "    \"IU.ADK.00.BHZ\":  (13.59, 144.87),\n",
    "    \"II.WRAB.00.BHZ\": (-19.93, 134.36),\n",
    "    \"II.ERM.00.BHZ\":  (42.02, 143.16),\n",
    "    \"IU.YAK.00.BHZ\":  (62.03, 129.68), \n",
    "    \"IU.BILL.00.BHZ\": (68.07, 166.45), \n",
    "    \"AK.RDOG..BHZ\":   (68.05, -162.91),\n",
    "    \"IU.KONO.00.BHZ\": (9.60,  59.99),\n",
    "}\n",
    "```"
   ]
  },
  {
   "cell_type": "code",
   "execution_count": null,
   "id": "11d56764-a9de-4cf0-b156-ce85c85b8cbe",
   "metadata": {},
   "outputs": [],
   "source": []
  },
  {
   "cell_type": "markdown",
   "id": "b5aee29c-7e2c-4126-8c16-1df1e1a82adf",
   "metadata": {},
   "source": [
    ">  3.2 [0.25] **Calculate** 1) epicentral distance (in units of degrees) and 2) azimuth (in units of degrees) for each station. cCreate one `list` for distance and one for azimuth."
   ]
  },
  {
   "cell_type": "code",
   "execution_count": null,
   "id": "e9477fc8-303c-48e4-858b-7c12b6108f08",
   "metadata": {},
   "outputs": [],
   "source": []
  },
  {
   "cell_type": "markdown",
   "id": "cb39cd4f-0cbd-4122-9c52-b0e3badc125a",
   "metadata": {},
   "source": [
    "> 3.3 [0.5] In addition to azimuth and polarity, we also need **takeoff angles** to determine where points lie on a stereonet. We will do this with TauP.\n",
    "> - **Use ObsPy's TauP** (see following code-block) to get takeoff angles for each of the stations.\n",
    "> - Use the source depth from the GCMT solution above. \n",
    "> - Create a `list` of takeoff angles corresponding to each station. \n",
    "> - If any station does **not** return a P-wave arrival, **assign a takeoff angle of -1**. This will make sure it is ignored in the later parts of this problem.\n",
    "```python\n",
    "from obspy.taup import TauPyModel\n",
    "\n",
    "model = TauPyModel(model=\"iasp91\")\n",
    "arrivals = model.get_travel_times(..., phase_list=[\"P\"])  # fill in the variables on your own\n",
    "print(arrivals[0].takeoff_angle)\n",
    "```"
   ]
  },
  {
   "cell_type": "code",
   "execution_count": null,
   "id": "5195ed56-49ef-4737-81ab-d37cc0c52995",
   "metadata": {},
   "outputs": [],
   "source": []
  },
  {
   "cell_type": "markdown",
   "id": "4ba96534-2669-4cba-b739-58fc811ac0be",
   "metadata": {},
   "source": [
    "> 3.4 [0.5] Now let's plot arrivals on a stereonet. Old-school seismology would ask you do this by hand, but we have the power of Python. In `geos604funcs` there is a function called `plot_polarities` that will accept all of the information you just collected and plot data points onto a stereonet.\n",
    "> - **Using the function `plot_polarities()`** (see below) plot your first motions on a stereonet by providing lists of: station names, takeoff angles, azimuths and polarities. The call structure for the function is shown below.\n",
    "\n",
    "```python\n",
    "# Call structure for plot_polarities\n",
    "from geos604funcs import plot_polarities\n",
    "\n",
    "plot_polarities(takeoff_angles=[28.5, 89.9], \n",
    "                azimuths=[2.3, 30.2],\n",
    "                polarities=[\"+\", \"?\"],\n",
    "                stations=[\"IU.COLA\", \"NZ.KAPT\"], \n",
    "                )\n",
    "```"
   ]
  },
  {
   "cell_type": "code",
   "execution_count": null,
   "id": "89f52c51-3150-438b-aade-a1adfefb84b7",
   "metadata": {},
   "outputs": [],
   "source": []
  },
  {
   "cell_type": "markdown",
   "id": "07b19063-09b2-459a-81a8-71a120f04b94",
   "metadata": {},
   "source": [
    "> 3.5 [1.0] Now let's try and fit the focal mechanism by choosing the appropriate nodal planes. We will do this with good ole' trial and error.\n",
    "> - **Define values for strike, dip and rake for a fault plane** and plot them using `plot_polarities()` (see below). The function will automatically generate the appropriate auxiliary plane for you.\n",
    "> - Once you are satisfied, use the `ObsPy Beachball function` to **plot the same focal mechanism** with colored quadrants. Make sure the P and T axes are colored how you want.\n",
    "> - **Notes**\n",
    ">   - Ensure that the nodal planes correctly group positive and negative first motions.\n",
    ">   - Do **not** try to recreate the actual focal mechanism solution, you will not be graded on that. Just try your best to fit the observations.  \n",
    ">   - If things are not making sense, go back to your waveforms and check polarities, don't be afraid to mark some with \"?\".\n",
    "\n",
    "```python\n",
    "# Fitting a focal mechanism to your observations\n",
    "nodal_plane = [101, 85, 27]  # strike, dip, rake\n",
    "plot_polarities(takeoff_angles, azimuths, polarities, stations,\n",
    "                nodal_plane)\n",
    "```"
   ]
  },
  {
   "cell_type": "code",
   "execution_count": null,
   "id": "dfe24ecb-e6b1-4a04-a1a5-065d224cbd76",
   "metadata": {},
   "outputs": [],
   "source": []
  },
  {
   "cell_type": "markdown",
   "id": "14ada595-ff22-48c1-95fd-d567f64434f8",
   "metadata": {},
   "source": [
    "> 3.6 [1.25] Please answer each question with one or two sentences.:  \n",
    "> a. On your nodal plane figure, **name and describe** each of the features: solid blue line, solid blue marker, open blue circle.  \n",
    "> b. Consider the points `AK.COLD` and `IU.ADK` on your stereonet. In a few sentences **describe what their different location on the stereonet mean**. Discuss in terms of the takeoff angle and the lower hemisphere projection.  \n",
    "> c. Describe why some of the stations in Part 1 were more **difficult to find polarities for**. Try to connect this with the geographic locations of the stations.  \n",
    "> d. **Comment on why your source mechanism differs** from the GCMT solution and **how we could improve the solution**. Try to provide atleast 3 different reasons.  \n",
    "> e. One of the stations in the list **could not be assigned a takeoff angle** for the P-wave, why is this?  "
   ]
  },
  {
   "cell_type": "code",
   "execution_count": null,
   "id": "ae22361f-750c-4fa0-a52b-291ec85a2494",
   "metadata": {},
   "outputs": [],
   "source": []
  },
  {
   "cell_type": "markdown",
   "id": "f991b6aa-8cda-4535-9c0c-bda4fdc044e0",
   "metadata": {},
   "source": [
    "> 3.7 [0.5] Have a look at the actual focal mechanism provided at the beginning of the problem (also copied below). In class we learned that focal mechanisms define both a fault plane and an auxiliary plane, and slip on either plane would result in the the same radiation pattern, meaning seismic data is ambiguous in determining the actual fault orientation. We require external information to decide which plane actually slipped. Do some research and **make a decision on which plane is correct**, write one or two sentences justifying your decision.\n",
    "\n"
   ]
  },
  {
   "cell_type": "code",
   "execution_count": null,
   "id": "95b5e2cd-0ae1-410b-89de-ed13fd88b70e",
   "metadata": {},
   "outputs": [],
   "source": []
  },
  {
   "cell_type": "markdown",
   "id": "e56f55d8-1d3d-4609-839b-58ac15fc8dba",
   "metadata": {},
   "source": [
    "-----------\n",
    "\n",
    "## Problem N \n",
    "1. Approximately how much time did you spend on this homework assignment?\n",
    "2. Did you find this homework particularly easy, adequate, or difficult?\n",
    "3. Any feedback on the homework?\n"
   ]
  },
  {
   "cell_type": "markdown",
   "id": "9f42b3af-1260-42bc-bf2f-a650a8326a28",
   "metadata": {},
   "source": []
  }
 ],
 "metadata": {
  "kernelspec": {
   "display_name": "Python 3 (ipykernel)",
   "language": "python",
   "name": "python3"
  },
  "language_info": {
   "codemirror_mode": {
    "name": "ipython",
    "version": 3
   },
   "file_extension": ".py",
   "mimetype": "text/x-python",
   "name": "python",
   "nbconvert_exporter": "python",
   "pygments_lexer": "ipython3",
   "version": "3.12.8"
  }
 },
 "nbformat": 4,
 "nbformat_minor": 5
}
