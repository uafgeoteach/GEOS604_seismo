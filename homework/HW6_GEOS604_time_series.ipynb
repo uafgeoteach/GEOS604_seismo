{
 "cells": [
  {
   "cell_type": "markdown",
   "id": "53d4e3d8-2b0f-468b-bab9-a84ae4742a14",
   "metadata": {},
   "source": [
    "# Homework 6: Intro to Time Series\n",
    "- **Course:** UAF GEOS604 &mdash; Seismology  \n",
    "- **Instructor:** Bryant Chow ([bhchow@alaska.edu](bhchow@alaska.edu))\n",
    "- **Course Website:** [https://bryantchow.com/teaching/geos604](https://bryantchow.com/teaching/geos604) \n",
    "- **Last Modified:**  02/24/25\n",
    "\n",
    "## Semester: Spring 2025\n",
    "- **Total Points**: 10\n",
    "- **Assigned**: Not Yet Assigned\n",
    "- **Due Date and Time**: \n",
    "\n",
    "---------\n",
    "## Submitting Homework\n",
    "\n",
    "1. If you have handwritten solutions to any problems:  \n",
    "   a. include them directly in the notebook as a scan/picture in the appropriate section, OR  \n",
    "   b. scan/photograph and include them separately. please also reference them in the notebook (\"see handwritten notes submitted separately\")\n",
    "2. Save your homework as a PDF file using `File` -> `Save and Export Notebook As` -> `PDF`\n",
    "3. Double check that the output PDF contains all your code, text, and any images you have included\n",
    "5. Upload your PDF to the class Google Drive (see course website above) before the **Due Date and Time** listed above.\n",
    "\n",
    "**See the class syllabus section on \"Homework Policy\" for late policy and information on academic integrity.**\n",
    "\n",
    "---------------\n",
    "\n",
    "\n",
    "## Homework Motivation\n",
    "This homework will introduce key concepts and libraries used by research and operational seismologists. We will rely heavily on [ObsPy](https://docs.obspy.org/), an open-source Python package for handling seismic data and metadata. ObsPy has become a standard tool for modern-day seismologists. In this homework we will cover the following topics:  \n",
    "\n",
    "1. Seismic Data and Metadata\n",
    "2. Differences between data vs. metadata\n",
    "3. Visualizing time series\n",
    "4. Fourier analysis \n",
    "5. Instrument response removal\n",
    "6. Preprocessing seismic data: detrend, taper, rotate, filter\n",
    "7. Spectrograms"
   ]
  },
  {
   "cell_type": "code",
   "execution_count": null,
   "id": "a518cd82-36e3-431d-8296-563c4368b691",
   "metadata": {},
   "outputs": [],
   "source": [
    "# IMPORT CELL - Please run this cell before proceeding\n",
    "import numpy as np\n",
    "import matplotlib.pyplot as plt\n",
    "import obspy\n",
    "\n",
    "# These are imported again in cell blocks below, but referenced here for convenience\n",
    "from obspy import read, read_events, read_inventory, UTCDateTime\n",
    "from obspy.clients.fdsn import Client\n",
    "from obspy.clients.nrl import NRL\n",
    "from scipy.fftpack import fft, fftfreq, next_fast_len\n",
    "\n",
    "# Custom plotting routine for ObsPy time series\n",
    "from geos604funcs import plot_waveforms\n",
    "\n",
    "%matplotlib widget"
   ]
  },
  {
   "cell_type": "markdown",
   "id": "8adf3e2e-6e4a-44c3-9c40-598188df075f",
   "metadata": {},
   "source": [
    "------------"
   ]
  },
  {
   "cell_type": "markdown",
   "id": "ab310e56-4f42-4318-a47e-a9762f727a9a",
   "metadata": {},
   "source": [
    "# Problem 1: Seismic Data and Metadata [1.0]\n",
    "\n",
    "- **Seismic data** are time series, made up of time stamps (absolute or relative) and data.\n",
    "- Seismic data is numeric-only, data are stored as integer or floating point values. \n",
    "- **Seismic metadata** stores information about the station and seismic event associated with seismic data.\n",
    "- Seismic metadata **must** be circulated with seismic data, so that seismologists know what their data describes.\n",
    "- **ObsPy** is an open-source Python package that, among many other things, provides frameworks for handling seismic data and metadata.\n",
    "\n",
    "### 1B: Stream\n",
    "\n",
    "Seismic Data are stored in [Stream](https://docs.obspy.org/packages/autogen/obspy.core.stream.Stream.html) objects. The [read](https://docs.obspy.org/packages/autogen/obspy.core.stream.read.html) function can handle multiple formats of seismic data\n"
   ]
  },
  {
   "cell_type": "code",
   "execution_count": null,
   "id": "b25bcf50-7d67-42a1-82ef-458aa5809a7d",
   "metadata": {},
   "outputs": [],
   "source": [
    "from obspy import read\n",
    "\n",
    "st = read()  # loads example data\n",
    "print(st)"
   ]
  },
  {
   "cell_type": "markdown",
   "id": "2f84b1d8-5d92-4886-9b1f-12bb56f22f6e",
   "metadata": {},
   "source": [
    "> **Question**: ObsPy `Stream` objects can contain multiple `Trace` objects. In the `Stream` above ('st'), what is the difference between each of the `Trace`s?\n",
    "> \n",
    "> **Answer**: "
   ]
  },
  {
   "cell_type": "markdown",
   "id": "f1a850d4-0208-4004-8944-c07ef3294ada",
   "metadata": {},
   "source": [
    "We can access each [Trace](https://docs.obspy.org/packages/autogen/obspy.core.trace.Trace.html) using Python's index notation. The [Trace.times()](https://docs.obspy.org/packages/autogen/obspy.core.trace.Trace.times.html#obspy.core.trace.Trace.times) function and `Trace.data` attribute provide us the requisite parts of the time series data."
   ]
  },
  {
   "cell_type": "code",
   "execution_count": null,
   "id": "d3f82a66-f784-4660-8ed7-77b2fda0ac28",
   "metadata": {},
   "outputs": [],
   "source": [
    "# Print out the first 10 entries of the time series\n",
    "print(\"Time\\t  Data\")\n",
    "for t, d in zip(st[0].times()[:11], st[0].data[:11]):\n",
    "    print(f\"{t:.3f}\\t  {d:1.4f}\")\n",
    "print(\"...\\t  ...\")"
   ]
  },
  {
   "cell_type": "markdown",
   "id": "672a038c-c0c8-4da9-a402-c40f35118f19",
   "metadata": {},
   "source": [
    "> **Question**: What are the units of `Time` and `Data` for the time series above?\n",
    "> \n",
    "> **Answer**: "
   ]
  },
  {
   "cell_type": "markdown",
   "id": "3301c1ba-7570-4eac-b02b-b3b6b64940d8",
   "metadata": {},
   "source": [
    "> **Task:** The `times()` function can define the time array in a number of ways. Referencing the [`Trace.times()` documentation page](https://docs.obspy.org/packages/autogen/obspy.core.trace.Trace.times.html#obspy.core.trace.Trace.times), print out a time array in the empty code cell below, formatted in the [UTCDatetime](https://docs.obspy.org/packages/autogen/obspy.core.utcdatetime.UTCDateTime.html#obspy.core.utcdatetime.UTCDateTime) format."
   ]
  },
  {
   "cell_type": "code",
   "execution_count": null,
   "id": "d1e06f18-a0e9-49dd-a5d1-2ff20c7bb924",
   "metadata": {},
   "outputs": [],
   "source": [
    "# Task"
   ]
  },
  {
   "cell_type": "markdown",
   "id": "53cbff3a-2cd5-472d-a37b-b577e20e3751",
   "metadata": {},
   "source": [
    "ObsPy takes care of associating **metadata** with seismic data. The [Trace.stats](https://docs.obspy.org/packages/autogen/obspy.core.trace.Stats.html) attribute provides information on the seismic station that these data are associated to."
   ]
  },
  {
   "cell_type": "code",
   "execution_count": null,
   "id": "0a51e1f8-7810-465f-85a3-cdf859fb584d",
   "metadata": {},
   "outputs": [],
   "source": [
    "tr = st[0]\n",
    "print(tr.stats)"
   ]
  },
  {
   "cell_type": "markdown",
   "id": "aabb8246-eeb4-40ef-b75c-4863a60c4725",
   "metadata": {},
   "source": [
    "> **Question**: Using the FDSN station search (https://www.fdsn.org/networks/) determine 1) **where** (lat/lon) the seismic station is, 2) and who the operator is (Note that ObsPy started and is maintained by researchers at this university).\n",
    "> \n",
    "> **Answer**: "
   ]
  },
  {
   "cell_type": "markdown",
   "id": "07e832ce-517b-40e5-b38f-59197ad97877",
   "metadata": {},
   "source": [
    "### 1C: Inventory\n",
    "\n",
    "- The example data already comes with metadata attached in the `Trace.stats` attribute.\n",
    "- Metadata are also stored in `Inventory` objects that define information for a given geophysical sensor.\n",
    "- Similar to the `Stream` object, ObsPy `Inventory` objects contain multiple sub-categories for: networks, stations and channels.\n",
    "- You can access each subsequent category of the `Inventory` using Python index notation"
   ]
  },
  {
   "cell_type": "code",
   "execution_count": null,
   "id": "17fe9c0a-b9f6-49ea-b9f2-494fb93a6dbe",
   "metadata": {},
   "outputs": [],
   "source": [
    "from obspy import read_inventory\n",
    "\n",
    "inv = read_inventory()\n",
    "print(inv)  # Inventory\n",
    "print(inv[0])  # Network\n",
    "print(inv[0][0])  # Station\n",
    "print(inv[0][0][0])  # Channel"
   ]
  },
  {
   "cell_type": "markdown",
   "id": "51e30d3b-016e-45d6-bd26-85e0aed6c656",
   "metadata": {},
   "source": [
    ">**Question:** The seismological community got together and defined the *Standard for the Exchange of Earthquake Data* (SEED) format for sharing seismic data and metadata. Channel codes are standardized to provide information about the recording instrument. Go to the [following informational page](http://ds.iris.edu/ds/nodes/dmc/data/formats/seed-channel-naming/) which defines SEED channel naming. For station `FUR` (listed above), describe what each of the different letters in the `Available Channels` represents (you only have to define each unique letter once).\n",
    ">\n",
    ">**Answer:**"
   ]
  },
  {
   "cell_type": "markdown",
   "id": "c58c1951-cccc-409b-9ef9-68fd44636a70",
   "metadata": {},
   "source": [
    "### 1D: Catalog\n",
    "\n",
    "- **Event metadata** describes seismic sources (primarily earthquakes) that may give rise to seismic waveforms. \n",
    "- Event metadata is not always tied to seismic data since they do not always contain earthquake information\n",
    "- So called **seismic noise** tends to be a mix of environmental and cultural sources, as well as other non-earthquake sources.\n",
    "- The ObsPy [Catalog](https://docs.obspy.org/packages/autogen/obspy.core.event.Catalog.html) object, and corresponding `Event` object, are used to store event metadata\n",
    "- Each event contains information about the earthquake `Origin` (hypocenter and origin time), `Magnitude`, and additional information (e.g., phase picks, focal mechanisms)"
   ]
  },
  {
   "cell_type": "code",
   "execution_count": null,
   "id": "a9a4f5de-e94b-4e10-896b-a542b73ba3f9",
   "metadata": {},
   "outputs": [],
   "source": [
    "from obspy import read_events\n",
    "\n",
    "cat = read_events()\n",
    "print(cat)  # Catalog\n",
    "print(cat[0])  # Event \n",
    "print(cat[0].preferred_origin())  # Origin information\n",
    "print(cat[0].preferred_magnitude())  # Magnitude information"
   ]
  },
  {
   "cell_type": "markdown",
   "id": "056fd68f-c994-4291-8ac2-07dfc5566365",
   "metadata": {},
   "source": [
    "> **Question:** What are the hypocenter (coordinates and depth), origin time, and magnitude of the **first** earthquake in the Catalog?\n",
    ">\n",
    "> **Answer:** "
   ]
  },
  {
   "cell_type": "markdown",
   "id": "7d0615df-0e58-476e-88ba-e2f643993987",
   "metadata": {},
   "source": [
    "-----------\n",
    "# Problem 2: Fetching Seismic Data and Metadata [1.0]\n",
    "\n",
    "### 2A: Background\n",
    "- Seismic data from long-term seismic stations can be queried from public web services.\n",
    "- [EarthScope](https://www.earthscope.org/about/earthscope/) (formerly IRIS, Incorporated Research Institutions for Seismology) is an federally funded consortium dedicated to stewarding geophysical facilities supporting long-term, fair and open access to geophysical instrumentation, observations, and practices.\n",
    "- Thanks to EarthScope, and the efforts of seismologists around the world, a significant amount of seismic data are publicly open, freely accesible, and relatively straightforward to obtain.\n",
    "- Seismic data and metadata are primarily made accesible through the [International Federation of Digital Seismograph Networks (FDSN)](https://www.fdsn.org/about/)\n",
    "\n",
    "### 2B: Client\n",
    "ObsPy has a built in [Client](https://docs.obspy.org/packages/obspy.clients.fdsn.html) module that allows us to query FDSN services for seismic data from a number of hosting institutions.\n"
   ]
  },
  {
   "cell_type": "code",
   "execution_count": null,
   "id": "b26e9641-5ca7-4242-a1b1-c36e43e748ee",
   "metadata": {},
   "outputs": [],
   "source": [
    "from obspy.clients.fdsn import Client\n",
    "\n",
    "client = Client(\"IRIS\")\n",
    "print(client)"
   ]
  },
  {
   "cell_type": "markdown",
   "id": "86496457-3838-4e83-943a-f1fbe8101460",
   "metadata": {},
   "source": [
    "The `Client` module has three main functions that we will use to query seismic data and metadata. ObsPy `Client` allows [Unix wildcards](https://tldp.org/LDP/GNU-Linux-Tools-Summary/html/x11655.htm). You may use wildcards to select for multiple components, stations, etc.\n",
    "\n",
    "- [Client.get_waveforms()](https://docs.obspy.org/packages/autogen/obspy.clients.fdsn.client.Client.get_waveforms.html#obspy.clients.fdsn.client.Client.get_waveforms): Download seismic waveform data\n",
    "- [Client.get_events()](https://docs.obspy.org/packages/autogen/obspy.clients.fdsn.client.Client.get_events.html#obspy.clients.fdsn.client.Client.get_events): Download seismic event metadata\n",
    "- [Client.get_stations()](https://docs.obspy.org/packages/autogen/obspy.clients.fdsn.client.Client.get_stations.html#obspy.clients.fdsn.client.Client.get_stations): Download seismic station metadata\n",
    "\n",
    "\n",
    "### 2C: Get Event\n",
    "\n",
    "> **Task**: Below you are provided unfinished code which will be used to query seismic data for the [2024 Hualien earthquake (Taiwan)](https://en.wikipedia.org/wiki/2024_Hualien_earthquake), recorded at station [IU.COLA](https://earthquake.usgs.gov/monitoring/operations/stations/IU/COLA/) in Fairbanks, AK.\n",
    ">\n",
    "> 1. Determine the origintime, magnitude and location of the 2024 Hualien earthquake, use `get_events()` to query a `Catalog` object containing event metadata.  \n",
    "> 2. To find the earthquake, we must provide approximate magnitude and location, `get_events()` will search available events that match these criteria.  \n",
    "> 3. If you get an `FDSNNoDataException` then double check your input values, something is incorrect.    \n",
    "> 4. Make sure you are only returned 1 earthquake, if you have more than one, then you need to refine your inputs.  "
   ]
  },
  {
   "cell_type": "code",
   "execution_count": null,
   "id": "7a427a88-2b16-44e8-b127-216e715aeb20",
   "metadata": {},
   "outputs": [],
   "source": [
    "# Task \n",
    "from obspy import UTCDateTime\n",
    "\n",
    "starttime = \"\" # YOUR INPUT HERE: Earthquake origin time, e.g., '2000-01-01T00:00:00'\n",
    "minimum_magnitude =   # YOUR INPUT HERE\n",
    "maximum_magnitude =   # YOUR INPUT HERE\n",
    "latitude =   # YOUR INPUT HERE\n",
    "longitude =   # YOUR INPUT HERE\n",
    "\n",
    "# vvv Do not modify below vvv\n",
    "cat = client.get_events(\n",
    "    minmagnitude= minimum_magnitude,\n",
    "    maxmagnitude=maximum_magnitude,\n",
    "    latitude=latitude, \n",
    "    longitude=longitude, \n",
    "    maxradius=0.1,  # search radius in degrees\n",
    "    starttime=UTCDateTime(starttime) - 60 * 5,  # Start looking a few minutes before origintime\n",
    "    endtime=UTCDateTime(starttime) + 60 * 5,  # Stop looking a few minutes after origintime\n",
    ")\n",
    "\n",
    "# Print and plot to confirm that we selected the right event\n",
    "print(cat)\n",
    "print(cat[0])\n",
    "cat.plot(projection=\"ortho\")"
   ]
  },
  {
   "cell_type": "markdown",
   "id": "a9014dba-d8e0-44bf-b902-0d39ef7f7fd7",
   "metadata": {},
   "source": [
    "> **Question:** Does your recovered Event match the information you queried exactly? (origin time, magnitude, latitude, longitude). If not, discuss why these might be different. \n",
    ">\n",
    "> **Answer:**\n",
    ">\n",
    " "
   ]
  },
  {
   "cell_type": "markdown",
   "id": "86ec4477-0637-470c-aafa-dab9407ea246",
   "metadata": {},
   "source": [
    "### 2D: Get Stations\n",
    "\n",
    "> **Task:**  Determine the network, station, and channel codes associated with [IU.COLA](https://earthquake.usgs.gov/monitoring/operations/stations/IU/COLA/). Query station metadata in an `Inventory` object.\n",
    "> 1. There are two seismometers at station `IU.COLA`, a surface sensor and a borehole sensor. Query data only for the **borehole sensor**\n",
    "> 2. Select your [channel code](http://ds.iris.edu/ds/nodes/dmc/data/formats/seed-channel-naming/) such that we query data for a **Broad Band**, **High Gain Seismometer** for **all three components**\n",
    "> 3. Print all 3 levels of your `Inventory` object to ensure you queried the correct metadata"
   ]
  },
  {
   "cell_type": "code",
   "execution_count": null,
   "id": "2ef412d3-2637-4ebf-97a2-482d2bb0deed",
   "metadata": {},
   "outputs": [],
   "source": [
    "# Task\n",
    "network_code  =   # YOUR INPUT HERE\n",
    "station_code  =   # YOUR INPUT HERE\n",
    "location_code =   # YOUR INPUT HERE\n",
    "channel_code  =   # YOUR INPUT HERE\n",
    "\n",
    "# vvv Do not modify below vvv\n",
    "inv_cola = client.get_stations(\n",
    "    network=network_code\n",
    "    station=station_code, \n",
    "    location=location_code,  \n",
    "    channel=channel_code,\n",
    "    starttime = UTCDateTime(starttime) - 60 * 5,  # Start looking a few minutes before origintime\n",
    "    endtime = UTCDateTime(starttime) + 60 * 5,  # Stop looking a few minutes after origintime\n",
    "    level=\"response\",  # Include instrument response (see later sections)\n",
    ")\n",
    "# ^^^ Do not modify above ^^^\n",
    "\n",
    "# Print all levels \n",
    "# YOUR INPUT HERE"
   ]
  },
  {
   "cell_type": "markdown",
   "id": "8702dfaa-7fbc-4091-a51b-67ec72fc04ed",
   "metadata": {},
   "source": [
    "> **Question:** From the metadata you just collected, what is the exact depth (in meters) of the borehole seismometer at IU.COLA?\n",
    ">\n",
    "> **Answer:**\n",
    ">\n",
    "> **Question:** What are the three orthogonal components defining the orientation of the sensor. Why do you think the horizontal components are not listed as East and North? (hint: look at the channel metadata)\n",
    ">\n",
    "> **Answer:**\n",
    "\n"
   ]
  },
  {
   "cell_type": "markdown",
   "id": "6ffbb2d1-68bb-4402-bc53-6196c717c132",
   "metadata": {},
   "source": [
    "### 2E: Get Waveforms\n",
    "> **Task:** Query seismic time series data for the exact station and components you queried above\n",
    "> - Set your `starttime` as the origin time of the Hualien earthquake,\n",
    "> - Set your `endtime` as 1.5 hours after the earthquake origintime\n",
    "> - Note that you can either manually input these, or you can add seconds to a `UTCDateTime` object\n",
    "```python\n",
    "# Example adding 60 seconds to a UTCDateTime object \n",
    "UTCDatetime(\"2000-01-01T00:00:00\") + 60  # = UTCDatetime(\"2000-01-01T00:00:60\")\n",
    "```"
   ]
  },
  {
   "cell_type": "code",
   "execution_count": null,
   "id": "ce1f7704-9a89-4a7c-93b0-54fd415a1f26",
   "metadata": {},
   "outputs": [],
   "source": [
    "# Task\n",
    "st_cola = client.get_waveforms(\n",
    "    network =  , # YOUR INPUT HERE\n",
    "    station = ,  # YOUR INPUT HERE\n",
    "    location = ,  # YOUR INPUT HERE\n",
    "    channel = ,  # YOUR INPUT HERE\n",
    "    starttime =  ,  # YOUR INPUT HERE\n",
    "    endtime = # YOUR INPUT HERE\n",
    ")\n",
    "\n",
    "print(st_cola)"
   ]
  },
  {
   "cell_type": "markdown",
   "id": "30170f9e-caad-4c36-9cd8-61fb10bbe605",
   "metadata": {},
   "source": [
    "-----------\n",
    "\n",
    "# Problem 3: Plotting a time series [1.0]\n",
    "\n",
    "- ObsPy has a built-in [Stream.plot()](https://docs.obspy.org/packages/autogen/obspy.core.stream.Stream.plot.html#obspy.core.stream.Stream.plot) function that allows you to quickly look at data, but their visualization is limited in scope in this Jupyter environment\n",
    "- I have written a generic waveform plotting function `plot_waveforms()` so that we can have a more useful way to look at the waveform data.\n",
    "- `plot_waveforms` takes your Stream object `st` as input. It also takes an input `fmt` which dictates how the x-axis deals with time, 'absolute' or 'relative'"
   ]
  },
  {
   "cell_type": "code",
   "execution_count": null,
   "id": "eaab8cac-6c51-4549-ae85-4d532ba67cbf",
   "metadata": {},
   "outputs": [],
   "source": [
    "from geos604funcs import plot_waveforms\n",
    "\n",
    "plot_waveforms(st_cola)"
   ]
  },
  {
   "cell_type": "markdown",
   "id": "7e3d2a46-e73b-4cbd-8597-60b06b131a8d",
   "metadata": {},
   "source": [
    "> **Question:** Approximately how many seconds after the event origin time (t=0) does the P-wave arrive?\n",
    ">\n",
    "> **Answer:**\n",
    ">\n",
    "> **Question:** Approximately how many seconds after the event origin time (t=0) does the S-wave arrive?\n",
    ">\n",
    "> **Answer:**\n",
    ">\n",
    "> **Question:** At approximately what time after the origin time (in seconds) does the surface wave train start and stop?\n",
    ">\n",
    "> **Answer:**\n",
    ">\n",
    "> "
   ]
  },
  {
   "cell_type": "markdown",
   "id": "b126021a-284a-4fbe-9808-580bd1d76beb",
   "metadata": {},
   "source": [
    "> **Task:** Using your P and S picks:\n",
    "> - Consult the travel time chart below which shows travel time curves for body wave phases for model IASP91\n",
    "> - Determine an approximate distance, in units of degrees, between the earthquake in Taiwan, and Fairbanks, AK. \n",
    "> - Compare your answer by measuring the distance in Google Maps. How accurate was your phase arrival estimation?\n",
    ">\n",
    "\n",
    "<img src=\"https://levee.wustl.edu/seismology/book/chapter3/chap3_fr/3_5_04.jpg\" width=900 height=900 class=\"center\"/>\n"
   ]
  },
  {
   "cell_type": "code",
   "execution_count": null,
   "id": "589d544f-e253-40a7-8789-7696fdfc429b",
   "metadata": {},
   "outputs": [],
   "source": []
  },
  {
   "cell_type": "markdown",
   "id": "6a246c61-d89a-4d8a-be91-a0f6a5762464",
   "metadata": {},
   "source": [
    "------------"
   ]
  },
  {
   "cell_type": "markdown",
   "id": "0bf4dc4f-fe0e-4852-99c4-e274cca6e87e",
   "metadata": {},
   "source": [
    "# Problem 4: Reading Local Data [1.0]\n",
    "\n",
    "### 4A: Background\n",
    "- Seismologists who perform their own field deployments need to access their instruments' data stored on local harddrives or databases.\n",
    "- Seismic instruments output their data in a variety of different formats. Often a field seismologist's first task after deployment is to get their data into a usable format.\n",
    "- Obspy's [read() function](https://docs.obspy.org/packages/autogen/obspy.core.stream.read.html) includes a number of built-in formats for reading seismic data in as `Stream` objects\n",
    "\n",
    "### 4B: Read Data\n",
    "- I have hosted 3 waveform files for a seismic instrument (node) deployed in 2024\n",
    "- Course Google Drive Link: https://drive.google.com/drive/u/0/folders/1SKpSB2cLfJdLGQisZwt9Z8tthBQu_0ZK\n",
    "- This instrument was deployed just outside the [Large Animal Research center (LARS)](https://www.google.com/maps/place/Large+Animal+Research+Station/@64.8783669,-147.8690703,674m/data=!3m2!1e3!4b1!4m6!3m5!1s0x5132435a0ab440d1:0x7074e2c00615af0d!8m2!3d64.8783669!4d-147.86649!16s%2Fg%2F1v16pyqr?entry=ttu&g_ep=EgoyMDI1MDIxOS4xIKXMDSoJLDEwMjExNDU1SAFQAw%3D%3D).   \n",
    "- Fortunately the time span of this deployment captured the Hualien earthquake\n",
    "  \n",
    "> **Task:** Read, manipulate and visualize this data\n",
    "> 1. **Download** the waveform files and make them accessible to your notebook.\n",
    "> 2. **Read** in all 3 available data files stored in `./data` in to **one** Stream object called `st_node` (Note that you can add `Stream` objects together, e.g., `stream = stream_a + stream_b + stream_c`)\n",
    "> 3. **Trim** the `Stream` object to match the `starttime` and `endtime` of IU.COLA shown above (https://docs.obspy.org/packages/autogen/obspy.core.stream.Stream.trim.html) \n",
    "> 4. **Plot** the trimmed `Stream` object to show the waveforms using `plot_waveforms()`\n"
   ]
  },
  {
   "cell_type": "code",
   "execution_count": null,
   "id": "3e46dd8b-65c9-40c5-ba3b-4ba38c2c2104",
   "metadata": {
    "scrolled": true
   },
   "outputs": [],
   "source": [
    "# Task 1 - Read data\n",
    "st_node =   # YOUR INPUT HERE\n",
    "# st_node += read(...)  # <- Example code for adding two streams together\n",
    "\n",
    "# Task 2 - Trim data\n",
    "starttime =  # YOUR INPUT HERE\n",
    "endtime =    # YOUR INPUT HERE\n",
    "st_node.trim(starttime=starttime, endtime=endtime)\n",
    "\n",
    "# Task 3 - Plot waveform"
   ]
  },
  {
   "cell_type": "markdown",
   "id": "045b081d-1b33-47dd-bb51-4b689250a3c9",
   "metadata": {},
   "source": [
    "> **Question:** The Hualien earthquake is not obvious on the node data. So what do you think this instrument is recording? Consider the geographic location of the site and the potential sources of seismic energy nearby. Consider the duration and frequency for the signals you see.\n",
    ">\n",
    "> **Answer:**\n",
    ">\n",
    "> **Question:** Speculate on why you think this instrument, which is only half a kilometer from IU.COLA (at CIGO), has such a different recording for the same time period, compared to IU.COLA\n",
    ">\n",
    "> **Answer:**"
   ]
  },
  {
   "cell_type": "markdown",
   "id": "ebb61864-6bae-49ea-829f-11195ea6caf4",
   "metadata": {},
   "source": [
    "--------\n",
    "\n",
    "# Problem 5: Fourier Analysis [0.5]\n",
    "\n",
    "- **Fourier analysis** is the study of the way general functions may be represented or approximated by sums of simpler trigonometric functions.\n",
    "- **Fourier transforms** can be used to **decompose** continuous signals (e.g., seismogram) into a summation of trigonemtric functions, each with a single frequency.\n",
    "- The [**Fast Fourier Transform (FFT)**](https://en.wikipedia.org/wiki/Fast_Fourier_transform) is a computer algorithm for very efficiently computing fourier transforms for discrete time series.\n",
    "\n",
    "\n",
    ">**Task:** Run the following code block which uses the [SciPy](https://scipy.org/) implementation of the [Fast Fourier Transform](https://docs.scipy.org/doc/scipy/tutorial/fft.html) to decompose our time series for IU.COLA"
   ]
  },
  {
   "cell_type": "code",
   "execution_count": null,
   "id": "d2e3a492-1b14-4fc3-96e4-6825f7865aea",
   "metadata": {},
   "outputs": [],
   "source": [
    "from scipy.fftpack import fft, fftfreq, next_fast_len\n",
    "\n",
    "# Calculate FFT of IU.COLA data for all three components\n",
    "plt.close(\"all\")\n",
    "f, ax = plt.subplots()\n",
    "for tr in st:\n",
    "    sr = tr.stats.sampling_rate\n",
    "    nfft = next_fast_len(tr.stats.npts)  # pad data with zeros for fast FT\n",
    "    pos_freq = (nfft + 1) // 2  # index for positive frequencies\n",
    "    \n",
    "    spec = fft(tr.data, nfft)[:pos_freq]  # calculate the FFT\n",
    "    freq = fftfreq(nfft, 1 / sr)[:pos_freq]  # get freqs of DFT bin\n",
    "    plt.plot(freq, np.abs(spec), lw=1, label=tr.get_id(), alpha=0.5)  \n",
    "\n",
    "plt.legend(frameon=False)\n",
    "plt.xlabel(\"Frequency [Hz]\")\n",
    "plt.ylabel(\"Amplitude\")\n",
    "plt.loglog()\n",
    "plt.grid()\n",
    "plt.xlim([1E-5, 10]) # units Hz"
   ]
  },
  {
   "cell_type": "markdown",
   "id": "3479b100-eb3a-441b-8d7e-4a0c70c5acc9",
   "metadata": {},
   "source": [
    "> **Question:** Describe what you see in the figure above, what are the two axes, and what does the line shown represent?\n",
    ">\n",
    "> **Answer:**\n",
    ">\n",
    "> **Question:** In terms of period (1/frequency), where is most of the energy in this waveform? \n",
    ">\n",
    "> **Answer:**\n",
    ">\n",
    "> **Question:** When performing FFT on a computer, we add zeros to our data to ensure it is a certain length. We did this above with the function `next_fast_len`. Read the [description of function `next_fast_len`](https://docs.scipy.org/doc/scipy/reference/generated/scipy.fft.next_fast_len.html) to determine why we perform this operation.\n",
    ">\n",
    "> **Answer:**"
   ]
  },
  {
   "cell_type": "markdown",
   "id": "0a23c75d-58fa-49e4-b63a-929f4514aad5",
   "metadata": {},
   "source": [
    "----------\n",
    "\n",
    "# Problem 6: Instrument Response [1.0]\n",
    "\n",
    "### 6A: Background\n",
    "- Seismometers do not directly measure ground motion, but instead measure voltages induced by the movement of a mass suspended in a magnetic field.\n",
    "- As a result, the raw instrument output of a seismometer is in units of **digital counts**.\n",
    "- There are a number of dynamic systems in a seismometer that define an allowable range of ground motions and frequencies that an instrument is sensitive to.\n",
    "- Each instrument therefore has a different **response** to the same input ground motion. Instrument response is unique to a specific make, model and calibration of a seismometer.\n",
    "- The **Instrument Response** defines the transfer function that converts from digital counts to ground motion (i.e., displacement, velocity, acceleration). \n",
    "- Seismologists **remove instrument response** so that time series are in units of true ground motion, and do not include instrument effects.\n",
    "- The [Nominal Response Library (NRL)](https://ds.iris.edu/ds/nrl/) is a database of expected instrument response defined by manufacturer specifications. \n",
    "- Note that seismologists often do careful calibrations to determine the exact response of specific instruments in their charge, rather than relying on \"nominal\" values.\n",
    "\n",
    "\n",
    "### 6B: COLA Response\n",
    "\n",
    "The borehole sensor at IU.COLA is a [Kinemetrics STS-6A](https://kinemetrics.com/promos/STS-6APROMO/index.html), an observatory-grade seismometer that is very stable over a large range and frequency of input motions.\n"
   ]
  },
  {
   "cell_type": "code",
   "execution_count": null,
   "id": "b589c1b7-71ec-4a78-b659-984f8aafd8d2",
   "metadata": {},
   "outputs": [],
   "source": [
    "print(inv_cola)\n",
    "print(inv_cola[0][0][0].response)"
   ]
  },
  {
   "cell_type": "markdown",
   "id": "8918fb5d-e427-46ca-956f-c8f275515d82",
   "metadata": {},
   "source": [
    "We can [plot the ObsPy `Response` object](https://docs.obspy.org/packages/autogen/obspy.core.inventory.response.Response.plot.html) to have a look at characteristics of the response curve."
   ]
  },
  {
   "cell_type": "code",
   "execution_count": null,
   "id": "c6bf3d7e-460b-4590-9ef4-b9c5280e7317",
   "metadata": {},
   "outputs": [],
   "source": [
    "inv_cola[0][0][0].response.plot(output=\"VEL\", min_freq=1E-4)"
   ]
  },
  {
   "cell_type": "markdown",
   "id": "2a742b07-3e8c-4906-b550-a955aba447a6",
   "metadata": {},
   "source": [
    "> **Question:** The response plot shows how input waveforms are modified in amplitude and phase based on their frequency. Instruments are said to have \"flat response\" where the amplitudes of frequencies are not attenuated by the instrument. For IU.COLA (shown above) define where the instrument has a flat response. Express your answer in period (units: seconds).\n",
    ">\n",
    "> **Answer:**\n",
    ">\n",
    "> **Question:** The vertical dashed line in the figures above shows the maximum frequency allowable by the seismometer. For COLA, how does this value compare to the sampling rate? What is this frequency called?\n",
    "> \n",
    "> **Answer:**\n",
    ">"
   ]
  },
  {
   "cell_type": "markdown",
   "id": "58845c66-b314-4178-8d0c-abc1261331aa",
   "metadata": {},
   "source": [
    "### 6C: Node Response\n",
    "\n",
    "- The instrument that Bryant deployed at LARS is a [Magseis-Fairfield Z-Land seismic node](https://epic.earthscope.org/content/instrumentation/all-one-systems/nodes). \n",
    "- Nodes are self-contained seismometers, which sacrifice stability for portability.\n",
    "- Seismic nodes therefore have a very different response from high-quality stations like IU.COLA, as these instruments are intended for different applications.\n",
    "\n",
    "Let's compare the node's response to COLA. We can query the NRL for response information.\n"
   ]
  },
  {
   "cell_type": "code",
   "execution_count": null,
   "id": "14e750a5-3668-42c4-8774-0174c4836ac8",
   "metadata": {},
   "outputs": [],
   "source": [
    "from obspy.clients.nrl import NRL\n",
    "\n",
    "nrl = NRL()\n",
    "node_response = nrl.get_response(\n",
    "    sensor_keys = [\"Magseis Fairfield\", \"Generation 2\", \"5 Hz\"],\n",
    "    datalogger_keys = [\"Magseis Fairfield\", \"Zland 1C or 3C\", \"18 dB (8)\", \"250\", \"Linear Phase\", \"Off\"]\n",
    ")\n",
    "node_response.plot(output=\"VEL\", min_freq=1E-4)"
   ]
  },
  {
   "cell_type": "markdown",
   "id": "21eaeb95-d8e8-4028-9b23-6952892a86e4",
   "metadata": {},
   "source": [
    "> **Question:** How does the node response compare to COLA? Looking at the response differences, do you have a suspicion why we cannot see the Hualien earthquake in the raw node data?\n",
    ">\n",
    "> **Answer:**\n",
    ">\n",
    "> **Question:** Comparing the node response to IU.COLA, speculate on the differences in intended applications of nodes vs. an STS-6A"
   ]
  },
  {
   "cell_type": "markdown",
   "id": "dd3d2d24-01cd-4d92-96bc-2fe267fafa9d",
   "metadata": {},
   "source": [
    "### 6D: Response Removal\n",
    "\n",
    "We can **remove instrument response** using ObsPy. There are multiple ways of doing this, I'll show you one using the [remove_response() function](https://docs.obspy.org/packages/autogen/obspy.core.trace.Trace.remove_response.html)"
   ]
  },
  {
   "cell_type": "code",
   "execution_count": null,
   "id": "17a27e60-75de-4fe9-98ab-8646df389da5",
   "metadata": {},
   "outputs": [],
   "source": [
    "st_cola_rr = st_cola.copy()  # Copy the data so that we retain raw data\n",
    "\n",
    "# Remove response and plot the procedure\n",
    "f, ax = plt.subplots(figsize=(9,8))\n",
    "st_cola_rr.remove_response(inventory=inv_cola, output=\"VEL\", plot=True, fig=f)"
   ]
  },
  {
   "cell_type": "code",
   "execution_count": null,
   "id": "ac48433e-d3c8-4da9-a9a5-a78b9b79526f",
   "metadata": {},
   "outputs": [],
   "source": [
    "plot_waveforms(st_cola_rr)"
   ]
  },
  {
   "cell_type": "markdown",
   "id": "9133308d-fb56-46f4-a7c0-a4c8cfecbba2",
   "metadata": {},
   "source": [
    ">**Question:** There are a number of figures shown for the response removal plot. Describe what is happening in each of the rows in this figure.\n",
    ">\n",
    ">**Answer:**\n",
    ">\n",
    ">**Question:** Now that we have removed instrument response, our data is in units of ground motion. What is the quantity and what are the units of the time series above?\n",
    ">\n",
    ">**Answer:**\n",
    ">\n"
   ]
  },
  {
   "cell_type": "markdown",
   "id": "583bea84-c60c-46d3-9684-103cb1f22ae1",
   "metadata": {},
   "source": [
    "----------\n",
    "\n",
    "# Problem 7: Preprocessing seismic data [1.0]\n",
    "\n",
    "### 7A: Background\n",
    "Seismologists often have to complete additional **preprocessing** tasks which are meant to further \"clean up\" the waveforms prior to analysis. Typical preprocessing tasks include:\n",
    "   - [Resample](https://docs.obspy.org/packages/autogen/obspy.core.stream.Stream.resample.html): Changes the sampling rate of the data. Typical sampling rates are around 100 Hz, which may be too high for analyses. We tend to **downsample data** to make it easier to work with.\n",
    "   - [Detrend](https://docs.obspy.org/packages/autogen/obspy.core.trace.Trace.detrend.html): Detrending removes linear or polynomial trends from data. Seismologists may only consider a few hours of data at a time. Long period (>1 hour) trends are therefore not needed in the analysis, and can often obscure other parts of the waveform.   \n",
    "   - [Taper](https://docs.obspy.org/packages/autogen/obspy.core.trace.Trace.taper.html): Tapering \"rounds off\" the beginning and end of our signals. Seismic data are continuous, and signals prior to an earthquake origin time, or after the end of the surface wave train, may not be desired during analysis. Additionally, many of the signal processing techniques we perform require that data start and end at zero amplitude. \n",
    "   - [Rotate](https://docs.obspy.org/packages/autogen/obspy.core.stream.Stream.rotate.html): Re-orient the seismometer geographically. Seismometers record on three othogonal components, and seismologists can \"choose\" how to orient these components in space. Common coordinate systems include North-South, East-West, and Vertical (ZNE), as well as Radial, Transverse, Vertical (RTZ). RTZ rotations are **event-dependent**, meaning the radial direction is in line with the great-circle path between event and receiver.\n",
    "\n",
    "\n",
    "### 7B: Preprocessing\n",
    "> **Task**: In an **order of your choosing**, apply the following preprocessing functions to the IU.COLA data. Confirm that your preprocessing was successful by ensuring that there are no long-period trends, that your data touches 0 at the start and end, and that your data are in the RTZ coordinate system.\n",
    "\n",
    "> \n",
    "> - **Resample** the data to 10 samples per second\n",
    "> - **Detrend** the data to get rid of the long-period trend\n",
    "> - **Taper** your data so that both the start and end of the data are at 0, but that you do not affect any signal of interest, and do not introduce artefacts.\n",
    "> - **Rotate** your three components to the RTZ coordinate system.\n",
    ">     - You will first need to rotate from `12Z` to `ZNE`. This requires the `Inventory` you collected earlier.\n",
    ">     - You will then have to rotate from `ZNE` to `RTZ` using the appropriate backazimuth.\n",
    ">     - You can use the [gps2dist_azimuth](https://docs.obspy.org/packages/autogen/obspy.geodetics.base.gps2dist_azimuth.html) function to find the appropriate backazimuth.\n",
    ">\n",
    "\n",
    "**Important Note:** Each of these operations is performed **in-place**, i.e., your original data is lost. If you require the original unprocessed data, you will need to use the [Stream.copy() method](https://docs.obspy.org/packages/autogen/obspy.core.stream.Stream.copy.html)"
   ]
  },
  {
   "cell_type": "code",
   "execution_count": null,
   "id": "16b3d470-f391-47e8-a032-b2d49209d810",
   "metadata": {},
   "outputs": [],
   "source": [
    "from obspy.geodetics import gps2dist_azimuth\n",
    "\n",
    "# Use a copy so that we can easily reset if we change processing\n",
    "st_preproc = st_cola_rr.copy()\n",
    "\n",
    "# Task 1: Use a combination of `resample`, `detrend`, and `taper` to remove long period trends\n",
    "# <-- YOUR INPUT HERE \n",
    "\n",
    "# Task 2: Calculate Backazimuth\n",
    "dist_m, az, baz = gps2dist_azimuth(\n",
    "    lat1= ,  # <-- YOUR INPUT HERE \n",
    "    lon1= ,  # <-- YOUR INPUT HERE \n",
    "    lat2= ,  # <-- YOUR INPUT HERE \n",
    "    lon2= ,  # <-- YOUR INPUT HERE \n",
    ")\n",
    "print(f\"Distance={dist_m*1E-3:.2f}km\\n\"\n",
    "      f\"Azimuth={az:.2f}deg\\n\"\n",
    "      f\"Backazimuth={baz:.2f}deg\")\n",
    "    \n",
    "# Task 3: Rotate 12Z -> ZNE -> RTZ    \n",
    "# <-- YOUR INPUT HERE \n",
    "\n",
    "# Task 4: Plot the waveforms against the unprocessed version to check how preprocessing affected data\n",
    "plot_waveforms(st_preproc, st_2=st_cola_rr)"
   ]
  },
  {
   "cell_type": "markdown",
   "id": "551bf5ce-7838-4d28-872f-2fdda58a541a",
   "metadata": {},
   "source": [
    "### 7C: Filters\n",
    "\n",
    "- As we saw in the fourier analysis, our seismic data is a summation of energy arriving at different frequencies\n",
    "- Seismologists use **filters** to isolate or remove certain frequencies, depending on the analysis they're doing\n",
    "- There are three main filters we typically use:\n",
    "    1. **Bandpass**: Filter out a specific range of frequencies, between $f_{min}$ and $f_{max}$\n",
    "    2. **Lowpass**: Only allow (pass) low-frequency/long period energy, i.e., filter out high frequency/short period energy for a given $f_{cutoff}$\n",
    "    4. **Highpass**: Only allow high-frequency/short period energy, i.e., filter out low frequency/long period energy for a given $f_{cutoff}$\n",
    "\n",
    "\n",
    "\n",
    "> **Task**: Filter the IU.COLA data using the three types of filters\n",
    "> 1. Apply a **bandpass** filter for periods between 20 and 30s\n",
    "> 2. Apply a **highpass** filter for periods above 2s\n",
    "> 3. Apply a **lowpass** filter for periods below 40s\n",
    "> 4. **Plot** to result of each filter\n",
    ">\n",
    "> **Important Note:** Filtering is also performed **in-palce**. Ensure that you are copying the data each time so that you are not filtering the same data multiple times. "
   ]
  },
  {
   "cell_type": "code",
   "execution_count": null,
   "id": "bd5366c7-57a7-4862-9136-061371f4c310",
   "metadata": {},
   "outputs": [],
   "source": [
    "# Task 1\n",
    "st_filter_bandpass = st_preproc.copy()\n",
    "\n",
    "# <-- YOUR INPUT HERE \n"
   ]
  },
  {
   "cell_type": "code",
   "execution_count": null,
   "id": "aa10c868-94bb-4602-b935-71c9e81228af",
   "metadata": {},
   "outputs": [],
   "source": [
    "# Task 2\n",
    "st_filter_highpass = st_preproc.copy()\n",
    "\n",
    "# <-- YOUR INPUT HERE \n"
   ]
  },
  {
   "cell_type": "code",
   "execution_count": null,
   "id": "81c9f967-cff2-4320-90eb-242708413345",
   "metadata": {},
   "outputs": [],
   "source": [
    "# Task 3\n",
    "st_filter_lowpass = st_preproc.copy()\n",
    "\n",
    "# <-- YOUR INPUT HERE "
   ]
  },
  {
   "cell_type": "markdown",
   "id": "3c86ea51-5134-4a75-86a0-15178f0141c0",
   "metadata": {},
   "source": [
    "> **Question:** For the Hualien earthquake recorded at IU.COLA, are the S-waves primarily recorded as short period (< 1s) or long periods (> 1s)\n",
    ">\n",
    "> **Answer:**\n",
    ">\n",
    "> **Question:** What about the P-waves?\n",
    ">\n",
    "> **Answer:**\n",
    ">\n",
    "> **Question:** Surface waves are often the dominant signal on a seismogram, are these short or long-period energy?\n",
    ">\n",
    "> **Answer:**"
   ]
  },
  {
   "cell_type": "markdown",
   "id": "e11bb87d-6439-4fab-8eb4-df59ab9aadf2",
   "metadata": {},
   "source": [
    "---------\n",
    "\n",
    "# Problem 8: Spectrograms [1.0]\n",
    "\n",
    "### 8A: Background\n",
    "- A spectrogram is a visual representation of the spectrum of frequencies of a signal as it varies with time.\n",
    "- Spectrograms represent the distribution of energy over frequencies, for each time during a seismogram.\n",
    "- Seismologists use spectrograms to understand time-dependent energy arrival and dynamics.\n",
    "- ObsPy has a built in [Spectrogram](https://docs.obspy.org/packages/autogen/obspy.imaging.spectrogram.spectrogram.html) function \n",
    "\n",
    "\n",
    "### 8B: COLA Spectrogram\n",
    "> **Task:** Plot a spectrogram for the vertical (Z) component of your processed IU.COLA data stored in `st_preproc`\n",
    "> - You can use the [Stream.select()](https://docs.obspy.org/packages/autogen/obspy.core.stream.Stream.select.html) function to deal with only one component.\n",
    "> - Set `log=True` to get a logarithmic scale on the Y-axis\n"
   ]
  },
  {
   "cell_type": "code",
   "execution_count": null,
   "id": "2447435f-d12d-4e55-9026-538509a91ca5",
   "metadata": {},
   "outputs": [],
   "source": [
    "# YOUR INPUT HERE"
   ]
  },
  {
   "cell_type": "markdown",
   "id": "fcf4a3e0-7559-4426-b987-8463fc6d8f22",
   "metadata": {},
   "source": [
    "> **Question:** Describe what you see in the spectrogram. Make comparisons to the vertical component waveform and comment on what the colors mean.\n",
    ">\n",
    "> **Answer:**\n",
    ">\n"
   ]
  },
  {
   "cell_type": "markdown",
   "id": "6b2d4c14-bb87-4d35-af8d-7abb42e511b9",
   "metadata": {},
   "source": [
    "--------\n",
    "\n",
    "# Problem 9: Probablistic Power Spectral Densities [1.0]\n",
    "\n",
    "- We saw a **Power Spectral Density** (PSD) in the previous section on Fourier transforms. The frequency-amplitude figure shows relative power of each spectra.\n",
    "- Probablistic power spectral densities (PPSD) are one way of viewing many PSDs at once and finding empirical averages.\n",
    "- PPSD's are typically used to determine noise levels of a station, by creating consecutive (hourly, daily, etc.) PSDs and finding their mean value\n",
    "- ObsPy has a **built-in** PPSD function: https://docs.obspy.org/tutorial/code_snippets/probabilistic_power_spectral_density.html\n",
    "\n",
    "> **Task**: Create a Probablistic Power Spectral Density for station IU.COLA\n",
    "> 1. Download **vertical component** seismic data for the `IU.COLA` **borehole** sensor.\n",
    "> 2. Ensure that you collect 12 hours of data on either side of the 2024 Hualien earthquake origin time (24 hours of total data)\n",
    "> 3. Create a PPSD for IU.COLA during this time range\n",
    "> 4. Plot the PPSD with the `pqlx` coloarmap (see ObsPy tutorial for how to apply this)"
   ]
  },
  {
   "cell_type": "code",
   "execution_count": null,
   "id": "c202c031-cbf6-490b-8d37-2d8ec8de0acb",
   "metadata": {},
   "outputs": [],
   "source": [
    "# Task - Collect waveform data for IU.COLA"
   ]
  },
  {
   "cell_type": "code",
   "execution_count": null,
   "id": "6495cefa-d454-464f-a183-dc8ca3e09d40",
   "metadata": {},
   "outputs": [],
   "source": [
    "# Task - Create PPSD"
   ]
  },
  {
   "cell_type": "code",
   "execution_count": null,
   "id": "86ebb5cf-aa55-4473-ac51-22725ace78bb",
   "metadata": {},
   "outputs": [],
   "source": [
    "# Task - Plot PPSD"
   ]
  },
  {
   "cell_type": "markdown",
   "id": "f50fdb8f-bf8d-45f5-9798-9ba6683601b2",
   "metadata": {},
   "source": [
    "> **Question:** How many segments are contained in this PPSD. Roughly how much time does each of these segments contain?\n",
    "> \n",
    "> **Answer:**\n",
    ">\n",
    "> **Question:** What are the light gray lines above and below the PPSD? What do they represent and how were they calculated?\n",
    ">\n",
    "> **Answer:**\n",
    ">\n",
    "> **Question:** There are a few segments of the PPSD that have signficant amplitude differences with respect to the mean values. What is this coming from? Might we expect to see similar behavior for a PPSD of the next day of data?\n",
    ">\n",
    "> **Answer:**"
   ]
  },
  {
   "cell_type": "markdown",
   "id": "fd4fa391-0d2e-4e63-827f-de88f929721c",
   "metadata": {},
   "source": [
    "-----------\n",
    "\n",
    "# Problem 10: Processing Nodal Data [1.5]\n",
    "\n",
    "We have performed basic signal processing on the IU.COLA data. Let's do the same but for the node data. You have all the pieces in this notebook that you need to complete the following tasks.\n",
    "\n",
    "> **Task: Preprocess, filter and plot the node data**\n",
    "> 1. **Remove instrument response** for the nodal data (the appropriate metadata can be found in the `data/` directory\n",
    "> 2. **Preprocess** the waveforms in the same way we did IU.COLA (detrend, taper, rotate)\n",
    "> 3. **Filter** the node data. Choose an appropriate filter and filter bounds to **isolate** the Hualien earthquake signal from all other energy (use IU.COLA as a reference)\n",
    "> 4. **Plot** the processed and filtered node data, alongside the data from IU.COLA\n",
    "> 5. Plot a **spectrogram** for the vertical component of the node data"
   ]
  },
  {
   "cell_type": "code",
   "execution_count": null,
   "id": "0c3ba285-6d0f-4e9f-a583-d7befaa76976",
   "metadata": {},
   "outputs": [],
   "source": [
    "# Task 1: Remove instrument response\n",
    "st_node_proc = st_node.copy()  # Copy node data so we don't overwrite raw data\n",
    "# YOUR INPUT HERE\n",
    "\n",
    "# Task 2: Preprocess Node data\n",
    "# YOUR INPUT HERE\n",
    "\n",
    "# Task 3: Filter node data\n",
    "# YOUR INPUT HERE\n",
    "\n",
    "# Task 4: Plot node data\n",
    "# plot_waveforms(st_node_proc, st_2=st_preproc)  # <- Example code block to plot node data alongside IU.COLA\n",
    "\n",
    "# Task 5: Plot node spectrogram"
   ]
  },
  {
   "cell_type": "markdown",
   "id": "a3381209-207a-48b6-a94e-4cf4bfb9eba9",
   "metadata": {},
   "source": [
    "> **Question:** What are some major differences between the processed node data and IU.COLA?\n",
    ">\n",
    "> **Answer:**\n",
    ">\n",
    "> **Question:** The node data does not show surface wave data as well as IU.COLA, why is this?\n",
    ">\n",
    "> **Answer:**\n",
    ">\n",
    "> **Question:** Given the fact that this node was deployed near LARS, what do you think is contributing to additional seismic energy recorded on the node, as compared to IU.COLA?\n",
    ">\n",
    "> **Answer:**"
   ]
  },
  {
   "cell_type": "markdown",
   "id": "8e1599d4-59c7-40cd-b4a4-2a4724ac0348",
   "metadata": {},
   "source": [
    "-----------\n",
    "\n",
    "## Problem N \n",
    "1. Approximately how much time did you spend on this homework assignment?\n",
    "2. Did you find this homework particularly easy, adequate, or difficult?\n",
    "3. Any feedback on the homework?\n"
   ]
  },
  {
   "cell_type": "markdown",
   "id": "5f4b096b-aa44-4f4b-a777-8a2c7e073cba",
   "metadata": {},
   "source": []
  }
 ],
 "metadata": {
  "kernelspec": {
   "display_name": "Python 3 (ipykernel)",
   "language": "python",
   "name": "python3"
  },
  "language_info": {
   "codemirror_mode": {
    "name": "ipython",
    "version": 3
   },
   "file_extension": ".py",
   "mimetype": "text/x-python",
   "name": "python",
   "nbconvert_exporter": "python",
   "pygments_lexer": "ipython3",
   "version": "3.12.8"
  }
 },
 "nbformat": 4,
 "nbformat_minor": 5
}
